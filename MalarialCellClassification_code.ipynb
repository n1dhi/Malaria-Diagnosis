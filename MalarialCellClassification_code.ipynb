{
 "cells": [
  {
   "cell_type": "code",
   "execution_count": 1,
   "metadata": {},
   "outputs": [
    {
     "name": "stderr",
     "output_type": "stream",
     "text": [
      "Using TensorFlow backend.\n"
     ]
    }
   ],
   "source": [
    "import cv2\n",
    "import numpy as np\n",
    "import os\n",
    "from keras.utils import np_utils\n",
    "from matplotlib import pyplot as plt\n",
    "import time\n",
    "from keras.layers import Dense, Dropout, GlobalAveragePooling2D\n",
    "from keras.models import Model\n",
    "from keras import applications\n",
    "from keras.optimizers import SGD\n",
    "from sklearn.metrics import log_loss\n",
    "from sklearn.metrics import roc_curve, auc, accuracy_score\n",
    "from sklearn.metrics import classification_report,confusion_matrix\n",
    "from sklearn.metrics import average_precision_score\n",
    "from keras.models import load_model\n",
    "import itertools"
   ]
  },
  {
   "cell_type": "code",
   "execution_count": 2,
   "metadata": {},
   "outputs": [],
   "source": [
    "from sklearn.metrics import accuracy_score, f1_score, precision_score, recall_score,precision_recall_fscore_support"
   ]
  },
  {
   "cell_type": "markdown",
   "metadata": {},
   "source": [
    "# Loading the Dataset"
   ]
  },
  {
   "cell_type": "code",
   "execution_count": 13,
   "metadata": {},
   "outputs": [],
   "source": [
    "train_data_dir = 'cell_images'\n",
    "labels = os.listdir(train_data_dir)\n",
    "total = len(labels)\n",
    "\n",
    "nb_train_samples = 27560 #  training samples\n",
    "num_classes = 2\n",
    "img_rows_orig = 100\n",
    "img_cols_orig = 100\n",
    "\n",
    "X_train = np.ndarray((nb_train_samples, img_rows_orig, img_cols_orig, 3), dtype=np.uint8)\n",
    "Y_train = np.zeros((nb_train_samples,), dtype='uint8')"
   ]
  },
  {
   "cell_type": "code",
   "execution_count": 16,
   "metadata": {},
   "outputs": [
    {
     "name": "stdout",
     "output_type": "stream",
     "text": [
      "------------------------------\n",
      "Creating training images...\n",
      "------------------------------\n",
      "Parasitized 13780\n",
      "Done: 0/13780 images\n",
      "Done: 100/13780 images\n",
      "Done: 200/13780 images\n",
      "Done: 300/13780 images\n",
      "Done: 400/13780 images\n",
      "Done: 500/13780 images\n",
      "Done: 600/13780 images\n",
      "Done: 700/13780 images\n",
      "Done: 800/13780 images\n",
      "Done: 900/13780 images\n",
      "Done: 1000/13780 images\n",
      "Done: 1100/13780 images\n",
      "Done: 1200/13780 images\n",
      "Done: 1300/13780 images\n",
      "Done: 1400/13780 images\n",
      "Done: 1500/13780 images\n",
      "Done: 1600/13780 images\n",
      "Done: 1700/13780 images\n",
      "Done: 1800/13780 images\n",
      "Done: 1900/13780 images\n",
      "Done: 2000/13780 images\n",
      "Done: 2100/13780 images\n",
      "Done: 2200/13780 images\n",
      "Done: 2300/13780 images\n",
      "Done: 2400/13780 images\n",
      "Done: 2500/13780 images\n",
      "Done: 2600/13780 images\n",
      "Done: 2700/13780 images\n",
      "Done: 2800/13780 images\n",
      "Done: 2900/13780 images\n",
      "Done: 3000/13780 images\n",
      "Done: 3100/13780 images\n",
      "Done: 3200/13780 images\n",
      "Done: 3300/13780 images\n",
      "Done: 3400/13780 images\n",
      "Done: 3500/13780 images\n",
      "Done: 3600/13780 images\n",
      "Done: 3700/13780 images\n",
      "Done: 3800/13780 images\n",
      "Done: 3900/13780 images\n",
      "Done: 4000/13780 images\n",
      "Done: 4100/13780 images\n",
      "Done: 4200/13780 images\n",
      "Done: 4300/13780 images\n",
      "Done: 4400/13780 images\n",
      "Done: 4500/13780 images\n",
      "Done: 4600/13780 images\n",
      "Done: 4700/13780 images\n",
      "Done: 4800/13780 images\n",
      "Done: 4900/13780 images\n",
      "Done: 5000/13780 images\n",
      "Done: 5100/13780 images\n",
      "Done: 5200/13780 images\n",
      "Done: 5300/13780 images\n",
      "Done: 5400/13780 images\n",
      "Done: 5500/13780 images\n",
      "Done: 5600/13780 images\n",
      "Done: 5700/13780 images\n",
      "Done: 5800/13780 images\n",
      "Done: 5900/13780 images\n",
      "Done: 6000/13780 images\n",
      "Done: 6100/13780 images\n",
      "Done: 6200/13780 images\n",
      "Done: 6300/13780 images\n",
      "Done: 6400/13780 images\n",
      "Done: 6500/13780 images\n",
      "Done: 6600/13780 images\n",
      "Done: 6700/13780 images\n",
      "Done: 6800/13780 images\n",
      "Done: 6900/13780 images\n",
      "Done: 7000/13780 images\n",
      "Done: 7100/13780 images\n",
      "Done: 7200/13780 images\n",
      "Done: 7300/13780 images\n",
      "Done: 7400/13780 images\n",
      "Done: 7500/13780 images\n",
      "Done: 7600/13780 images\n",
      "Done: 7700/13780 images\n",
      "Done: 7800/13780 images\n",
      "Done: 7900/13780 images\n",
      "Done: 8000/13780 images\n",
      "Done: 8100/13780 images\n",
      "Done: 8200/13780 images\n",
      "Done: 8300/13780 images\n",
      "Done: 8400/13780 images\n",
      "Done: 8500/13780 images\n",
      "Done: 8600/13780 images\n",
      "Done: 8700/13780 images\n",
      "Done: 8800/13780 images\n",
      "Done: 8900/13780 images\n",
      "Done: 9000/13780 images\n",
      "Done: 9100/13780 images\n",
      "Done: 9200/13780 images\n",
      "Done: 9300/13780 images\n",
      "Done: 9400/13780 images\n",
      "Done: 9500/13780 images\n",
      "Done: 9600/13780 images\n",
      "Done: 9700/13780 images\n",
      "Done: 9800/13780 images\n",
      "Done: 9900/13780 images\n",
      "Done: 10000/13780 images\n",
      "Done: 10100/13780 images\n",
      "Done: 10200/13780 images\n",
      "Done: 10300/13780 images\n",
      "Done: 10400/13780 images\n",
      "Done: 10500/13780 images\n",
      "Done: 10600/13780 images\n",
      "Done: 10700/13780 images\n",
      "Done: 10800/13780 images\n",
      "Done: 10900/13780 images\n",
      "Done: 11000/13780 images\n",
      "Done: 11100/13780 images\n",
      "Done: 11200/13780 images\n",
      "Done: 11300/13780 images\n",
      "Done: 11400/13780 images\n",
      "Done: 11500/13780 images\n",
      "Done: 11600/13780 images\n",
      "Done: 11700/13780 images\n",
      "Done: 11800/13780 images\n",
      "Done: 11900/13780 images\n",
      "Done: 12000/13780 images\n",
      "Done: 12100/13780 images\n",
      "Done: 12200/13780 images\n",
      "Done: 12300/13780 images\n",
      "Done: 12400/13780 images\n",
      "Done: 12500/13780 images\n",
      "Done: 12600/13780 images\n",
      "Done: 12700/13780 images\n",
      "Done: 12800/13780 images\n",
      "Done: 12900/13780 images\n",
      "Done: 13000/13780 images\n",
      "Done: 13100/13780 images\n",
      "Done: 13200/13780 images\n",
      "Done: 13300/13780 images\n",
      "Done: 13400/13780 images\n",
      "Done: 13500/13780 images\n",
      "Done: 13600/13780 images\n",
      "Done: 13700/13780 images\n",
      "Uninfected 13780\n",
      "Done: 13800/13780 images\n",
      "Done: 13900/13780 images\n",
      "Done: 14000/13780 images\n",
      "Done: 14100/13780 images\n",
      "Done: 14200/13780 images\n",
      "Done: 14300/13780 images\n",
      "Done: 14400/13780 images\n",
      "Done: 14500/13780 images\n",
      "Done: 14600/13780 images\n",
      "Done: 14700/13780 images\n",
      "Done: 14800/13780 images\n",
      "Done: 14900/13780 images\n",
      "Done: 15000/13780 images\n",
      "Done: 15100/13780 images\n",
      "Done: 15200/13780 images\n",
      "Done: 15300/13780 images\n",
      "Done: 15400/13780 images\n",
      "Done: 15500/13780 images\n",
      "Done: 15600/13780 images\n",
      "Done: 15700/13780 images\n",
      "Done: 15800/13780 images\n",
      "Done: 15900/13780 images\n",
      "Done: 16000/13780 images\n",
      "Done: 16100/13780 images\n",
      "Done: 16200/13780 images\n",
      "Done: 16300/13780 images\n",
      "Done: 16400/13780 images\n",
      "Done: 16500/13780 images\n",
      "Done: 16600/13780 images\n",
      "Done: 16700/13780 images\n",
      "Done: 16800/13780 images\n",
      "Done: 16900/13780 images\n",
      "Done: 17000/13780 images\n",
      "Done: 17100/13780 images\n",
      "Done: 17200/13780 images\n",
      "Done: 17300/13780 images\n",
      "Done: 17400/13780 images\n",
      "Done: 17500/13780 images\n",
      "Done: 17600/13780 images\n",
      "Done: 17700/13780 images\n",
      "Done: 17800/13780 images\n",
      "Done: 17900/13780 images\n",
      "Done: 18000/13780 images\n",
      "Done: 18100/13780 images\n",
      "Done: 18200/13780 images\n",
      "Done: 18300/13780 images\n",
      "Done: 18400/13780 images\n",
      "Done: 18500/13780 images\n",
      "Done: 18600/13780 images\n",
      "Done: 18700/13780 images\n",
      "Done: 18800/13780 images\n",
      "Done: 18900/13780 images\n",
      "Done: 19000/13780 images\n",
      "Done: 19100/13780 images\n",
      "Done: 19200/13780 images\n",
      "Done: 19300/13780 images\n",
      "Done: 19400/13780 images\n",
      "Done: 19500/13780 images\n",
      "Done: 19600/13780 images\n",
      "Done: 19700/13780 images\n",
      "Done: 19800/13780 images\n",
      "Done: 19900/13780 images\n",
      "Done: 20000/13780 images\n",
      "Done: 20100/13780 images\n",
      "Done: 20200/13780 images\n",
      "Done: 20300/13780 images\n",
      "Done: 20400/13780 images\n",
      "Done: 20500/13780 images\n",
      "Done: 20600/13780 images\n",
      "Done: 20700/13780 images\n",
      "Done: 20800/13780 images\n",
      "Done: 20900/13780 images\n",
      "Done: 21000/13780 images\n",
      "Done: 21100/13780 images\n",
      "Done: 21200/13780 images\n",
      "Done: 21300/13780 images\n",
      "Done: 21400/13780 images\n",
      "Done: 21500/13780 images\n",
      "Done: 21600/13780 images\n",
      "Done: 21700/13780 images\n",
      "Done: 21800/13780 images\n",
      "Done: 21900/13780 images\n",
      "Done: 22000/13780 images\n",
      "Done: 22100/13780 images\n",
      "Done: 22200/13780 images\n",
      "Done: 22300/13780 images\n",
      "Done: 22400/13780 images\n",
      "Done: 22500/13780 images\n",
      "Done: 22600/13780 images\n",
      "Done: 22700/13780 images\n",
      "Done: 22800/13780 images\n",
      "Done: 22900/13780 images\n",
      "Done: 23000/13780 images\n",
      "Done: 23100/13780 images\n",
      "Done: 23200/13780 images\n",
      "Done: 23300/13780 images\n",
      "Done: 23400/13780 images\n",
      "Done: 23500/13780 images\n",
      "Done: 23600/13780 images\n",
      "Done: 23700/13780 images\n",
      "Done: 23800/13780 images\n",
      "Done: 23900/13780 images\n",
      "Done: 24000/13780 images\n",
      "Done: 24100/13780 images\n",
      "Done: 24200/13780 images\n",
      "Done: 24300/13780 images\n",
      "Done: 24400/13780 images\n",
      "Done: 24500/13780 images\n",
      "Done: 24600/13780 images\n",
      "Done: 24700/13780 images\n",
      "Done: 24800/13780 images\n",
      "Done: 24900/13780 images\n",
      "Done: 25000/13780 images\n",
      "Done: 25100/13780 images\n",
      "Done: 25200/13780 images\n",
      "Done: 25300/13780 images\n",
      "Done: 25400/13780 images\n",
      "Done: 25500/13780 images\n",
      "Done: 25600/13780 images\n",
      "Done: 25700/13780 images\n",
      "Done: 25800/13780 images\n",
      "Done: 25900/13780 images\n",
      "Done: 26000/13780 images\n",
      "Done: 26100/13780 images\n",
      "Done: 26200/13780 images\n",
      "Done: 26300/13780 images\n",
      "Done: 26400/13780 images\n",
      "Done: 26500/13780 images\n",
      "Done: 26600/13780 images\n",
      "Done: 26700/13780 images\n",
      "Done: 26800/13780 images\n",
      "Done: 26900/13780 images\n",
      "Done: 27000/13780 images\n",
      "Done: 27100/13780 images\n",
      "Done: 27200/13780 images\n",
      "Done: 27300/13780 images\n",
      "Done: 27400/13780 images\n",
      "Done: 27500/13780 images\n",
      "27558\n",
      "Loading done.\n",
      "Transform targets to keras compatible format.\n"
     ]
    }
   ],
   "source": [
    "i = 0\n",
    "print('-'*30)\n",
    "print('Creating training images...')\n",
    "print('-'*30)\n",
    "j = 0\n",
    "for label in labels:\n",
    "    image_names_train = os.listdir(os.path.join(train_data_dir, label))\n",
    "    total = len(image_names_train)\n",
    "    print(label, total)\n",
    "    for image_name in image_names_train:\n",
    "        img = cv2.imread(os.path.join(train_data_dir, label, image_name), cv2.IMREAD_COLOR)\n",
    "        if(img is not None):\n",
    "            img = cv2.resize(img, (img_rows_orig,img_cols_orig))\n",
    "            img = np.array([img])\n",
    "            X_train[i] = img\n",
    "            Y_train[i] = j\n",
    "\n",
    "            if i % 100 == 0:\n",
    "                print('Done: {0}/{1} images'.format(i, total))\n",
    "            i += 1\n",
    "    j += 1    \n",
    "print(i)                \n",
    "print('Loading done.')\n",
    "\n",
    "print('Transform targets to keras compatible format.')\n",
    "Y_train = np_utils.to_categorical(Y_train[:nb_train_samples], num_classes)\n",
    "np.savez('imgs_train1.npz', X_train = X_train, Y_train = Y_train)"
   ]
  },
  {
   "cell_type": "markdown",
   "metadata": {},
   "source": [
    "data = np.load('imgs_train1.npz')\n",
    "X = data['X_train']\n",
    "Y = data['Y_train']\n",
    "\n",
    "indices = np.arange(27558)\n",
    "np.random.shuffle(indices)\n",
    "train_indices =  indices[0:22500]\n",
    "valid_indices = indices[22500:]\n",
    "\n",
    "X_train = X[train_indices]\n",
    "Y_train = Y[train_indices]\n",
    "X_valid = X[valid_indices]\n",
    "Y_valid = Y[valid_indices]"
   ]
  },
  {
   "cell_type": "code",
   "execution_count": null,
   "metadata": {},
   "outputs": [],
   "source": [
    "np.savez('imgs_train_valid.npz', X_train = X_train, Y_train = Y_train,X_valid = X_valid,Y_valid  = Y_valid)"
   ]
  },
  {
   "cell_type": "code",
   "execution_count": 3,
   "metadata": {},
   "outputs": [],
   "source": [
    "data = np.load('imgs_train_valid.npz')\n",
    "X_train = data['X_train']\n",
    "Y_train = data['Y_train']\n",
    "X_valid = data['X_valid']\n",
    "Y_valid = data['Y_valid']"
   ]
  },
  {
   "cell_type": "code",
   "execution_count": 17,
   "metadata": {},
   "outputs": [
    {
     "data": {
      "text/plain": [
       "<function matplotlib.pyplot.show(*args, **kw)>"
      ]
     },
     "execution_count": 17,
     "metadata": {},
     "output_type": "execute_result"
    },
    {
     "data": {
      "image/png": "[encoded data removed]",
      "text/plain": [
       "<Figure size 432x288 with 1 Axes>"
      ]
     },
     "metadata": {
      "needs_background": "light"
     },
     "output_type": "display_data"
    }
   ],
   "source": [
    "plt.imshow(X_valid[40])\n",
    "plt.show"
   ]
  },
  {
   "cell_type": "code",
   "execution_count": 10,
   "metadata": {},
   "outputs": [
    {
     "name": "stdout",
     "output_type": "stream",
     "text": [
      "[1. 0.]\n"
     ]
    }
   ],
   "source": [
    "print(Y_valid[40])"
   ]
  },
  {
   "cell_type": "markdown",
   "metadata": {},
   "source": [
    "# Model Definition"
   ]
  },
  {
   "cell_type": "code",
   "execution_count": 6,
   "metadata": {},
   "outputs": [],
   "source": [
    "img_rows=100 #dimensions of image\n",
    "img_cols=100\n",
    "channel = 3 #RGB\n",
    "batch_size = 64 #vary depending on the GPU\n",
    "num_epoch = 100\n",
    "num_classes = 2"
   ]
  },
  {
   "cell_type": "code",
   "execution_count": 7,
   "metadata": {},
   "outputs": [
    {
     "name": "stderr",
     "output_type": "stream",
     "text": [
      "/usr/local/lib/python3.6/dist-packages/ipykernel_launcher.py:3: UserWarning: Update your `Model` call to the Keras 2 API: `Model(inputs=Tensor(\"in..., outputs=Tensor(\"bl...)`\n",
      "  This is separate from the ipykernel package so we can avoid doing imports until\n"
     ]
    }
   ],
   "source": [
    "#VGG16 model\n",
    "base_model = applications.VGG16(weights='imagenet', include_top=False, input_shape=(100,100,3))\n",
    "base_model = Model(input=base_model.input, output=base_model.get_layer('block5_conv2').output)"
   ]
  },
  {
   "cell_type": "code",
   "execution_count": 19,
   "metadata": {},
   "outputs": [
    {
     "name": "stderr",
     "output_type": "stream",
     "text": [
      "/usr/local/lib/python3.6/dist-packages/ipykernel_launcher.py:3: UserWarning: Update your `Model` call to the Keras 2 API: `Model(inputs=Tensor(\"in..., outputs=Tensor(\"bl...)`\n",
      "  This is separate from the ipykernel package so we can avoid doing imports until\n"
     ]
    }
   ],
   "source": [
    "#Inception model\n",
    "base_model = applications.Xception(weights='imagenet', include_top=False, input_shape=(100,100,3))\n",
    "base_model = Model(input=base_model.input, output=base_model.get_layer('block14_sepconv1').output)"
   ]
  },
  {
   "cell_type": "code",
   "execution_count": 56,
   "metadata": {},
   "outputs": [],
   "source": [
    "#Resnet model\n",
    "#base_model = applications.ResNet50(weights='imagenet', include_top=False, input_shape=(224,224,3))\n",
    "#base_model = Model(input=base_model.input, output=base_model.get_layer('res5c_branch2c').output)"
   ]
  },
  {
   "cell_type": "code",
   "execution_count": 8,
   "metadata": {},
   "outputs": [
    {
     "name": "stdout",
     "output_type": "stream",
     "text": [
      "_________________________________________________________________\n",
      "Layer (type)                 Output Shape              Param #   \n",
      "=================================================================\n",
      "input_1 (InputLayer)         (None, 100, 100, 3)       0         \n",
      "_________________________________________________________________\n",
      "block1_conv1 (Conv2D)        (None, 100, 100, 64)      1792      \n",
      "_________________________________________________________________\n",
      "block1_conv2 (Conv2D)        (None, 100, 100, 64)      36928     \n",
      "_________________________________________________________________\n",
      "block1_pool (MaxPooling2D)   (None, 50, 50, 64)        0         \n",
      "_________________________________________________________________\n",
      "block2_conv1 (Conv2D)        (None, 50, 50, 128)       73856     \n",
      "_________________________________________________________________\n",
      "block2_conv2 (Conv2D)        (None, 50, 50, 128)       147584    \n",
      "_________________________________________________________________\n",
      "block2_pool (MaxPooling2D)   (None, 25, 25, 128)       0         \n",
      "_________________________________________________________________\n",
      "block3_conv1 (Conv2D)        (None, 25, 25, 256)       295168    \n",
      "_________________________________________________________________\n",
      "block3_conv2 (Conv2D)        (None, 25, 25, 256)       590080    \n",
      "_________________________________________________________________\n",
      "block3_conv3 (Conv2D)        (None, 25, 25, 256)       590080    \n",
      "_________________________________________________________________\n",
      "block3_pool (MaxPooling2D)   (None, 12, 12, 256)       0         \n",
      "_________________________________________________________________\n",
      "block4_conv1 (Conv2D)        (None, 12, 12, 512)       1180160   \n",
      "_________________________________________________________________\n",
      "block4_conv2 (Conv2D)        (None, 12, 12, 512)       2359808   \n",
      "_________________________________________________________________\n",
      "block4_conv3 (Conv2D)        (None, 12, 12, 512)       2359808   \n",
      "_________________________________________________________________\n",
      "block4_pool (MaxPooling2D)   (None, 6, 6, 512)         0         \n",
      "_________________________________________________________________\n",
      "block5_conv1 (Conv2D)        (None, 6, 6, 512)         2359808   \n",
      "_________________________________________________________________\n",
      "block5_conv2 (Conv2D)        (None, 6, 6, 512)         2359808   \n",
      "=================================================================\n",
      "Total params: 12,354,880\n",
      "Trainable params: 12,354,880\n",
      "Non-trainable params: 0\n",
      "_________________________________________________________________\n"
     ]
    }
   ],
   "source": [
    "base_model.summary()"
   ]
  },
  {
   "cell_type": "code",
   "execution_count": 5,
   "metadata": {},
   "outputs": [],
   "source": [
    "x = base_model.output\n",
    "x = GlobalAveragePooling2D()(x)"
   ]
  },
  {
   "cell_type": "code",
   "execution_count": 6,
   "metadata": {},
   "outputs": [],
   "source": [
    "x = Dense(1024, activation='relu')(x)\n",
    "x = Dropout(0.5)(x)\n",
    "x = Dense(512,activation='relu')(x)\n",
    "x = Dropout(0.5)(x)\n",
    "# and a logistic layer \n",
    "predictions = Dense(num_classes, activation='softmax', name='predictions')(x)\n",
    "# this is the model we will train\n",
    "model = Model(inputs=base_model.input, outputs=predictions)"
   ]
  },
  {
   "cell_type": "code",
   "execution_count": 7,
   "metadata": {},
   "outputs": [
    {
     "name": "stdout",
     "output_type": "stream",
     "text": [
      "_________________________________________________________________\n",
      "Layer (type)                 Output Shape              Param #   \n",
      "=================================================================\n",
      "input_1 (InputLayer)         (None, 100, 100, 3)       0         \n",
      "_________________________________________________________________\n",
      "block1_conv1 (Conv2D)        (None, 100, 100, 64)      1792      \n",
      "_________________________________________________________________\n",
      "block1_conv2 (Conv2D)        (None, 100, 100, 64)      36928     \n",
      "_________________________________________________________________\n",
      "block1_pool (MaxPooling2D)   (None, 50, 50, 64)        0         \n",
      "_________________________________________________________________\n",
      "block2_conv1 (Conv2D)        (None, 50, 50, 128)       73856     \n",
      "_________________________________________________________________\n",
      "block2_conv2 (Conv2D)        (None, 50, 50, 128)       147584    \n",
      "_________________________________________________________________\n",
      "block2_pool (MaxPooling2D)   (None, 25, 25, 128)       0         \n",
      "_________________________________________________________________\n",
      "block3_conv1 (Conv2D)        (None, 25, 25, 256)       295168    \n",
      "_________________________________________________________________\n",
      "block3_conv2 (Conv2D)        (None, 25, 25, 256)       590080    \n",
      "_________________________________________________________________\n",
      "block3_conv3 (Conv2D)        (None, 25, 25, 256)       590080    \n",
      "_________________________________________________________________\n",
      "block3_pool (MaxPooling2D)   (None, 12, 12, 256)       0         \n",
      "_________________________________________________________________\n",
      "block4_conv1 (Conv2D)        (None, 12, 12, 512)       1180160   \n",
      "_________________________________________________________________\n",
      "block4_conv2 (Conv2D)        (None, 12, 12, 512)       2359808   \n",
      "_________________________________________________________________\n",
      "block4_conv3 (Conv2D)        (None, 12, 12, 512)       2359808   \n",
      "_________________________________________________________________\n",
      "block4_pool (MaxPooling2D)   (None, 6, 6, 512)         0         \n",
      "_________________________________________________________________\n",
      "block5_conv1 (Conv2D)        (None, 6, 6, 512)         2359808   \n",
      "_________________________________________________________________\n",
      "block5_conv2 (Conv2D)        (None, 6, 6, 512)         2359808   \n",
      "_________________________________________________________________\n",
      "global_average_pooling2d_1 ( (None, 512)               0         \n",
      "_________________________________________________________________\n",
      "dense_1 (Dense)              (None, 1024)              525312    \n",
      "_________________________________________________________________\n",
      "dropout_1 (Dropout)          (None, 1024)              0         \n",
      "_________________________________________________________________\n",
      "dense_2 (Dense)              (None, 512)               524800    \n",
      "_________________________________________________________________\n",
      "dropout_2 (Dropout)          (None, 512)               0         \n",
      "_________________________________________________________________\n",
      "predictions (Dense)          (None, 2)                 1026      \n",
      "=================================================================\n",
      "Total params: 13,406,018\n",
      "Trainable params: 13,406,018\n",
      "Non-trainable params: 0\n",
      "_________________________________________________________________\n"
     ]
    }
   ],
   "source": [
    "model.summary()"
   ]
  },
  {
   "cell_type": "code",
   "execution_count": 8,
   "metadata": {},
   "outputs": [],
   "source": [
    "for layer in base_model.layers:\n",
    "    layer.trainable = False\n",
    "# compile the model (should be done *after* setting layers to non-trainable)\n",
    "#fix the optimizer\n",
    "sgd = SGD(lr=0.00001, decay=1e-6, momentum=0.9, nesterov=True) \n",
    "#compile the gpu model\n",
    "model.compile(optimizer=sgd,\n",
    "              loss='mse',\n",
    "              metrics=['accuracy'])"
   ]
  },
  {
   "cell_type": "code",
   "execution_count": null,
   "metadata": {},
   "outputs": [
    {
     "name": "stdout",
     "output_type": "stream",
     "text": [
      "------------------------------\n",
      "Start Training the model...\n",
      "------------------------------\n",
      "Epoch 1/100\n",
      "22500/22500 [==============================] - 101s 4ms/step - loss: 0.4660 - acc: 0.5241\n",
      "Epoch 2/100\n",
      "22500/22500 [==============================] - 50s 2ms/step - loss: 0.4273 - acc: 0.5620\n",
      "Epoch 3/100\n",
      "22500/22500 [==============================] - 50s 2ms/step - loss: 0.3960 - acc: 0.5933\n",
      "Epoch 4/100\n",
      "22500/22500 [==============================] - 50s 2ms/step - loss: 0.3661 - acc: 0.6235\n",
      "Epoch 5/100\n",
      "22500/22500 [==============================] - 50s 2ms/step - loss: 0.3433 - acc: 0.6476\n",
      "Epoch 6/100\n",
      "22500/22500 [==============================] - 50s 2ms/step - loss: 0.3234 - acc: 0.6680\n",
      "Epoch 7/100\n",
      "22500/22500 [==============================] - 50s 2ms/step - loss: 0.3031 - acc: 0.6886\n",
      "Epoch 8/100\n",
      "22500/22500 [==============================] - 50s 2ms/step - loss: 0.2891 - acc: 0.7025\n",
      "Epoch 9/100\n",
      "22500/22500 [==============================] - 49s 2ms/step - loss: 0.2749 - acc: 0.7169\n",
      "Epoch 10/100\n",
      "22500/22500 [==============================] - 50s 2ms/step - loss: 0.2668 - acc: 0.7254\n",
      "Epoch 11/100\n",
      "22500/22500 [==============================] - 50s 2ms/step - loss: 0.2521 - acc: 0.7397\n",
      "Epoch 12/100\n",
      "22500/22500 [==============================] - 50s 2ms/step - loss: 0.2382 - acc: 0.7544\n",
      "Epoch 13/100\n",
      "22500/22500 [==============================] - 50s 2ms/step - loss: 0.2342 - acc: 0.7590\n",
      "Epoch 14/100\n",
      "22500/22500 [==============================] - 50s 2ms/step - loss: 0.2257 - acc: 0.7668\n",
      "Epoch 15/100\n",
      "22500/22500 [==============================] - 50s 2ms/step - loss: 0.2231 - acc: 0.7708\n",
      "Epoch 16/100\n",
      "22500/22500 [==============================] - 50s 2ms/step - loss: 0.2107 - acc: 0.7827\n",
      "Epoch 17/100\n",
      "22500/22500 [==============================] - 50s 2ms/step - loss: 0.2065 - acc: 0.7870\n",
      "Epoch 18/100\n",
      "22500/22500 [==============================] - 50s 2ms/step - loss: 0.2008 - acc: 0.7923\n",
      "Epoch 19/100\n",
      "22500/22500 [==============================] - 50s 2ms/step - loss: 0.1967 - acc: 0.7972\n",
      "Epoch 20/100\n",
      "22500/22500 [==============================] - 50s 2ms/step - loss: 0.1923 - acc: 0.8016\n",
      "Epoch 21/100\n",
      "22500/22500 [==============================] - 50s 2ms/step - loss: 0.1852 - acc: 0.8087\n",
      "Epoch 22/100\n",
      "22500/22500 [==============================] - 50s 2ms/step - loss: 0.1784 - acc: 0.8160\n",
      "Epoch 23/100\n",
      "22500/22500 [==============================] - 49s 2ms/step - loss: 0.1782 - acc: 0.8160\n",
      "Epoch 24/100\n",
      "22500/22500 [==============================] - 50s 2ms/step - loss: 0.1724 - acc: 0.8224\n",
      "Epoch 25/100\n",
      "22500/22500 [==============================] - 50s 2ms/step - loss: 0.1764 - acc: 0.8181\n",
      "Epoch 26/100\n",
      "22500/22500 [==============================] - 50s 2ms/step - loss: 0.1714 - acc: 0.8230\n",
      "Epoch 27/100\n",
      "22500/22500 [==============================] - 50s 2ms/step - loss: 0.1650 - acc: 0.8299\n",
      "Epoch 28/100\n",
      "22500/22500 [==============================] - 50s 2ms/step - loss: 0.1618 - acc: 0.8331\n",
      "Epoch 29/100\n",
      "22500/22500 [==============================] - 50s 2ms/step - loss: 0.1600 - acc: 0.8345\n",
      "Epoch 30/100\n",
      "22500/22500 [==============================] - 50s 2ms/step - loss: 0.1615 - acc: 0.8335\n",
      "Epoch 31/100\n",
      "22500/22500 [==============================] - 50s 2ms/step - loss: 0.1561 - acc: 0.8388\n",
      "Epoch 32/100\n",
      "22500/22500 [==============================] - 50s 2ms/step - loss: 0.1551 - acc: 0.8400\n",
      "Epoch 33/100\n",
      "22500/22500 [==============================] - 50s 2ms/step - loss: 0.1508 - acc: 0.8441\n",
      "Epoch 34/100\n",
      "22500/22500 [==============================] - 49s 2ms/step - loss: 0.1486 - acc: 0.8469\n",
      "Epoch 35/100\n",
      "22500/22500 [==============================] - 50s 2ms/step - loss: 0.1515 - acc: 0.8437\n",
      "Epoch 36/100\n",
      "22500/22500 [==============================] - 49s 2ms/step - loss: 0.1449 - acc: 0.8502\n",
      "Epoch 37/100\n",
      "22500/22500 [==============================] - 50s 2ms/step - loss: 0.1423 - acc: 0.8525\n",
      "Epoch 38/100\n",
      "22500/22500 [==============================] - 50s 2ms/step - loss: 0.1445 - acc: 0.8512\n",
      "Epoch 39/100\n",
      "22500/22500 [==============================] - 50s 2ms/step - loss: 0.1409 - acc: 0.8544\n",
      "Epoch 40/100\n",
      "22500/22500 [==============================] - 50s 2ms/step - loss: 0.1391 - acc: 0.8560\n",
      "Epoch 41/100\n",
      "22500/22500 [==============================] - 50s 2ms/step - loss: 0.1377 - acc: 0.8580\n",
      "Epoch 42/100\n",
      "22500/22500 [==============================] - 49s 2ms/step - loss: 0.1345 - acc: 0.8611\n",
      "Epoch 43/100\n",
      "22500/22500 [==============================] - 50s 2ms/step - loss: 0.1370 - acc: 0.8582\n",
      "Epoch 44/100\n",
      "22500/22500 [==============================] - 50s 2ms/step - loss: 0.1348 - acc: 0.8612\n",
      "Epoch 45/100\n",
      "22500/22500 [==============================] - 50s 2ms/step - loss: 0.1313 - acc: 0.8647\n",
      "Epoch 46/100\n",
      "22500/22500 [==============================] - 50s 2ms/step - loss: 0.1338 - acc: 0.8618\n",
      "Epoch 47/100\n",
      "22500/22500 [==============================] - 50s 2ms/step - loss: 0.1320 - acc: 0.8636\n",
      "Epoch 48/100\n",
      "22500/22500 [==============================] - 50s 2ms/step - loss: 0.1276 - acc: 0.8680\n",
      "Epoch 49/100\n",
      " 7936/22500 [=========>....................] - ETA: 32s - loss: 0.1193 - acc: 0.8770"
     ]
    }
   ],
   "source": [
    "t=time.time() #make a note of the time\n",
    "#start training\n",
    "print('-'*30)\n",
    "print('Start Training the model...')\n",
    "print('-'*30)\n",
    "hist = model.fit(X_train, Y_train,\n",
    "      batch_size=batch_size,\n",
    "      epochs=num_epoch,\n",
    "      shuffle=True,\n",
    "      validation_data=None,\n",
    "      verbose=1)\n",
    "\n",
    "#compute the training time\n",
    "print('Training time: %s' % (time.time()-t))"
   ]
  },
  {
   "cell_type": "markdown",
   "metadata": {},
   "source": [
    "model.save('model_inception.h5')"
   ]
  },
  {
   "cell_type": "markdown",
   "metadata": {},
   "source": [
    "model.save('model.h5')"
   ]
  },
  {
   "cell_type": "code",
   "execution_count": 11,
   "metadata": {},
   "outputs": [],
   "source": [
    "model = load_model('model.h5')\n",
    "#model = load_model('model_inception.h5')"
   ]
  },
  {
   "cell_type": "code",
   "execution_count": 12,
   "metadata": {},
   "outputs": [
    {
     "name": "stdout",
     "output_type": "stream",
     "text": [
      "5058/5058 [==============================] - 53s 10ms/step\n"
     ]
    }
   ],
   "source": [
    "y_pred = model.predict(X_valid, batch_size=64, verbose=1)"
   ]
  },
  {
   "cell_type": "code",
   "execution_count": 18,
   "metadata": {},
   "outputs": [
    {
     "name": "stdout",
     "output_type": "stream",
     "text": [
      "Predicted :\n",
      "    Infected\n",
      "Ground Truth :\n",
      "    Infected\n"
     ]
    },
    {
     "data": {
      "image/png": "[encoded data removed]",
      "text/plain": [
       "<Figure size 432x288 with 1 Axes>"
      ]
     },
     "metadata": {
      "needs_background": "light"
     },
     "output_type": "display_data"
    }
   ],
   "source": [
    "plt.imshow(X_valid[400])\n",
    "plt.show\n",
    "print('Predicted :')\n",
    "print('    Uninfected') if np.argmax(y_pred[500]) else print('    Infected')\n",
    "print('Ground Truth :')\n",
    "print('    Uninfected') if np.argmax(Y_valid[500]) else print('    Infected')"
   ]
  },
  {
   "cell_type": "code",
   "execution_count": 19,
   "metadata": {},
   "outputs": [
    {
     "name": "stdout",
     "output_type": "stream",
     "text": [
      "Predicted :\n",
      "    Infected\n",
      "Ground Truth :\n",
      "    Infected\n"
     ]
    },
    {
     "data": {
      "image/png": "[encoded data removed]",
      "text/plain": [
       "<Figure size 432x288 with 1 Axes>"
      ]
     },
     "metadata": {
      "needs_background": "light"
     },
     "output_type": "display_data"
    }
   ],
   "source": [
    "plt.imshow(X_valid[1000])\n",
    "plt.show\n",
    "print('Predicted :')\n",
    "print('    Uninfected') if np.argmax(y_pred[1000]) else print('    Infected')\n",
    "print('Ground Truth :')\n",
    "print('    Uninfected') if np.argmax(Y_valid[1000]) else print('    Infected')"
   ]
  },
  {
   "cell_type": "code",
   "execution_count": 20,
   "metadata": {},
   "outputs": [
    {
     "name": "stdout",
     "output_type": "stream",
     "text": [
      "Predicted :\n",
      "    Uninfected\n",
      "Ground Truth :\n",
      "    Uninfected\n"
     ]
    },
    {
     "data": {
      "image/png": "[encoded data removed]",
      "text/plain": [
       "<Figure size 432x288 with 1 Axes>"
      ]
     },
     "metadata": {
      "needs_background": "light"
     },
     "output_type": "display_data"
    }
   ],
   "source": [
    "plt.imshow(X_valid[66])\n",
    "plt.show\n",
    "print('Predicted :')\n",
    "print('    Uninfected') if np.argmax(y_pred[66]) else print('    Infected')\n",
    "print('Ground Truth :')\n",
    "print('    Uninfected') if np.argmax(Y_valid[66]) else print('    Infected')"
   ]
  },
  {
   "cell_type": "code",
   "execution_count": 20,
   "metadata": {},
   "outputs": [
    {
     "name": "stdout",
     "output_type": "stream",
     "text": [
      "Validation_Accuracy =  94.32582048240411 %\n"
     ]
    }
   ],
   "source": [
    "Validation_accuracy = accuracy_score(Y_valid.argmax(axis=-1),y_pred.argmax(axis=-1))\n",
    "print(\"Validation_Accuracy = \",Validation_accuracy*100,\"%\")"
   ]
  },
  {
   "cell_type": "code",
   "execution_count": 42,
   "metadata": {},
   "outputs": [
    {
     "name": "stdout",
     "output_type": "stream",
     "text": [
      "Confusion matrix, without normalization\n",
      "[[2336  171]\n",
      " [ 116 2435]]\n"
     ]
    },
    {
     "data": {
      "text/plain": [
       "Text(0.5,-20.6968,'Predicted label')"
      ]
     },
     "execution_count": 42,
     "metadata": {},
     "output_type": "execute_result"
    },
    {
     "data": {
      "image/png": "[encoded data removed]",
      "text/plain": [
       "<Figure size 432x288 with 2 Axes>"
      ]
     },
     "metadata": {
      "needs_background": "light"
     },
     "output_type": "display_data"
    }
   ],
   "source": [
    "classes = ['Infected','Uninfected']\n",
    "cm = confusion_matrix(Y_valid.argmax(axis=-1),y_pred.argmax(axis=-1))\n",
    "normalize = False\n",
    "plt.imshow(cm, interpolation='nearest', cmap=plt.cm.Blues)\n",
    "plt.title('Confusion matrix')\n",
    "plt.colorbar()\n",
    "tick_marks = np.arange(len(classes))\n",
    "plt.xticks(tick_marks, classes, rotation=45)\n",
    "plt.yticks(tick_marks, classes)\n",
    "\n",
    "if normalize:\n",
    "    cm = cm.astype('float') / cm.sum(axis=1)[:, np.newaxis]\n",
    "    print(\"Normalized confusion matrix\")\n",
    "else:\n",
    "    print('Confusion matrix, without normalization')\n",
    "\n",
    "print(cm)\n",
    "thresh = cm.max() / 2.\n",
    "for i, j in itertools.product(range(cm.shape[0]), range(cm.shape[1])):\n",
    "    plt.text(j, i, cm[i, j],\n",
    "             horizontalalignment=\"center\",\n",
    "             color=\"white\" if cm[i, j] > thresh else \"black\")\n",
    "plt.tight_layout()\n",
    "plt.ylabel('True label')\n",
    "plt.xlabel('Predicted label')"
   ]
  },
  {
   "cell_type": "code",
   "execution_count": 20,
   "metadata": {},
   "outputs": [
    {
     "name": "stdout",
     "output_type": "stream",
     "text": [
      "[0 0 1 ... 0 1 1]\n",
      "[0 0 1 ... 0 1 1]\n"
     ]
    }
   ],
   "source": [
    "y_pred = np.argmax(y_pred, axis=1)\n",
    "Y_valid = np.argmax(Y_valid, axis=1)\n",
    "print(y_pred)\n",
    "print(Y_valid)\n",
    "\n",
    "#save the predicted and ground-truth labels.\n",
    "np.savetxt('malaria_y_pred.csv',y_pred,fmt='%i',delimiter = \",\")\n",
    "np.savetxt('malaria_Y_true.csv',Y_valid,fmt='%i',delimiter = \",\")"
   ]
  },
  {
   "cell_type": "code",
   "execution_count": null,
   "metadata": {},
   "outputs": [],
   "source": []
  }
 ],
 "metadata": {
  "kernelspec": {
   "display_name": "Python 3",
   "language": "python",
   "name": "python3"
  },
  "language_info": {
   "codemirror_mode": {
    "name": "ipython",
    "version": 3
   },
   "file_extension": ".py",
   "mimetype": "text/x-python",
   "name": "python",
   "nbconvert_exporter": "python",
   "pygments_lexer": "ipython3",
   "version": "3.6.5"
  }
 },
 "nbformat": 4,
 "nbformat_minor": 2
}
